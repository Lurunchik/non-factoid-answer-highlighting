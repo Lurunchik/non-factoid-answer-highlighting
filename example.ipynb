{
 "cells": [
  {
   "cell_type": "code",
   "execution_count": 1,
   "metadata": {
    "ExecuteTime": {
     "end_time": "2021-03-29T13:30:28.907953Z",
     "start_time": "2021-03-29T13:30:18.079754Z"
    }
   },
   "outputs": [],
   "source": [
    "from highlighting.highlighter import BertHighlighter\n",
    "\n",
    "highlighter = BertHighlighter.from_pretrained()\n"
   ]
  },
  {
   "cell_type": "code",
   "execution_count": 2,
   "metadata": {
    "ExecuteTime": {
     "end_time": "2021-03-29T13:30:32.624277Z",
     "start_time": "2021-03-29T13:30:31.056148Z"
    },
    "pycharm": {
     "name": "#%%\n"
    }
   },
   "outputs": [
    {
     "data": {
      "text/html": [
       "Microphone. A <span style=\"background-color:rgba(191,63,63,0.7600693690802651);\">microphone</span> is a <span style=\"background-color:rgba(191,63,63,0.6458650879426899);\">device</span> that captures <span style=\"background-color:rgba(191,63,63,0.6266495484558362);\">audio</span> by converting sound waves into an electrical <span style=\"background-color:rgba(191,63,63,1.25);\">signal</span>. This <span style=\"background-color:rgba(191,63,63,1.25);\">signal</span> can be amplified as an analog <span style=\"background-color:rgba(191,63,63,1.25);\">signal</span> or may be <span style=\"background-color:rgba(191,63,63,0.3335726008952238);\">converted</span> to a <span style=\"background-color:rgba(191,63,63,0.6345659199783202);\">digital</span> <span style=\"background-color:rgba(191,63,63,1.25);\">signal</span>, which can be processed by a computer or other <span style=\"background-color:rgba(191,63,63,0.6345659199783202);\">digital</span> <span style=\"background-color:rgba(191,63,63,0.6266495484558362);\">audio</span> <span style=\"background-color:rgba(191,63,63,0.6458650879426899);\">device</span>"
      ],
      "text/plain": [
       "<IPython.core.display.HTML object>"
      ]
     },
     "metadata": {},
     "output_type": "display_data"
    }
   ],
   "source": [
    "from IPython.core.display import HTML, display\n",
    "\n",
    "html = highlighter.highlight(\n",
    "    question = 'What is a computer microphone?',\n",
    "    answer = '''Microphone. A microphone is a device that captures audio by converting sound waves into an electrical signal. This signal can be amplified as an analog signal or may be converted to a digital signal, which can be processed by a computer or other digital audio device''',\n",
    ")\n",
    "display(HTML(html))"
   ]
  },
  {
   "cell_type": "code",
   "execution_count": null,
   "metadata": {
    "pycharm": {
     "name": "#%%\n"
    }
   },
   "outputs": [],
   "source": []
  }
 ],
 "metadata": {
  "kernelspec": {
   "display_name": "PyCharm (non-factoid-answer-highlighting)",
   "language": "python",
   "name": "pycharm-2139ef47"
  },
  "language_info": {
   "codemirror_mode": {
    "name": "ipython",
    "version": 3
   },
   "file_extension": ".py",
   "mimetype": "text/x-python",
   "name": "python",
   "nbconvert_exporter": "python",
   "pygments_lexer": "ipython3",
   "version": "3.7.3"
  },
  "varInspector": {
   "cols": {
    "lenName": 16,
    "lenType": 16,
    "lenVar": 40
   },
   "kernels_config": {
    "python": {
     "delete_cmd_postfix": "",
     "delete_cmd_prefix": "del ",
     "library": "var_list.py",
     "varRefreshCmd": "print(var_dic_list())"
    },
    "r": {
     "delete_cmd_postfix": ") ",
     "delete_cmd_prefix": "rm(",
     "library": "var_list.r",
     "varRefreshCmd": "cat(var_dic_list()) "
    }
   },
   "types_to_exclude": [
    "module",
    "function",
    "builtin_function_or_method",
    "instance",
    "_Feature"
   ],
   "window_display": false
  }
 },
 "nbformat": 4,
 "nbformat_minor": 1
}