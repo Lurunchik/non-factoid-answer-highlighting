{
 "cells": [
  {
   "cell_type": "code",
   "execution_count": 3,
   "metadata": {
    "ExecuteTime": {
     "end_time": "2021-03-29T13:30:28.907953Z",
     "start_time": "2021-03-29T13:30:18.079754Z"
    }
   },
   "outputs": [
    {
     "name": "stderr",
     "output_type": "stream",
     "text": [
      "INFO:bertviz.transformers_neuron_view.tokenization_utils:loading file https://s3.amazonaws.com/models.huggingface.co/bert/bert-large-uncased-whole-word-masking-vocab.txt from cache at C:\\Users\\spani\\.cache\\torch\\pytorch_transformers\\b3a6b2c6d7ea2ffa06d0e7577c1e88b94fad470ae0f060a4ffef3fe0bdf86730.542ce4285a40d23a559526243235df47c5f75c197f04f37d1a0c124c32c9a084\n",
      "INFO:bertviz.transformers_neuron_view.modeling_utils:loading configuration file C:\\Projects\\non-factoid-answer-highlighting\\highlighting\\data\\nfl6_pretrained\\config.json\n",
      "INFO:bertviz.transformers_neuron_view.modeling_utils:Model config {\n",
      "  \"attention_probs_dropout_prob\": 0.1,\n",
      "  \"finetuning_task\": null,\n",
      "  \"hidden_act\": \"gelu\",\n",
      "  \"hidden_dropout_prob\": 0.1,\n",
      "  \"hidden_size\": 1024,\n",
      "  \"id2label\": {\n",
      "    \"0\": \"LABEL_0\",\n",
      "    \"1\": \"LABEL_1\"\n",
      "  },\n",
      "  \"initializer_range\": 0.02,\n",
      "  \"intermediate_size\": 4096,\n",
      "  \"is_decoder\": false,\n",
      "  \"label2id\": {\n",
      "    \"LABEL_0\": 0,\n",
      "    \"LABEL_1\": 1\n",
      "  },\n",
      "  \"layer_norm_eps\": 1e-12,\n",
      "  \"max_position_embeddings\": 512,\n",
      "  \"num_attention_heads\": 16,\n",
      "  \"num_hidden_layers\": 24,\n",
      "  \"num_labels\": 2,\n",
      "  \"output_attentions\": false,\n",
      "  \"output_hidden_states\": false,\n",
      "  \"output_past\": true,\n",
      "  \"pruned_heads\": {},\n",
      "  \"torchscript\": false,\n",
      "  \"type_vocab_size\": 2,\n",
      "  \"use_bfloat16\": false,\n",
      "  \"vocab_size\": 30522\n",
      "}\n",
      "\n",
      "INFO:bertviz.transformers_neuron_view.modeling_utils:loading weights file C:\\Projects\\non-factoid-answer-highlighting\\highlighting\\data\\nfl6_pretrained\\pytorch_model.bin\n"
     ]
    }
   ],
   "source": [
    "from highlighting.highlighter import BertHighlighter\n",
    "\n",
    "highlighter = BertHighlighter.from_pretrained()\n"
   ]
  },
  {
   "cell_type": "code",
   "execution_count": 4,
   "metadata": {
    "ExecuteTime": {
     "end_time": "2021-03-29T13:30:32.624277Z",
     "start_time": "2021-03-29T13:30:31.056148Z"
    },
    "pycharm": {
     "name": "#%%\n"
    }
   },
   "outputs": [
    {
     "data": {
      "text/plain": "<IPython.core.display.HTML object>",
      "text/html": "<span style=\"background-color:rgba(191,63,63,0.7600689372021664);\">microphone</span>. a <span style=\"background-color:rgba(191,63,63,0.7600689372021664);\">microphone</span> is a <span style=\"background-color:rgba(191,63,63,0.6458648245902876);\">device</span> that captures <span style=\"background-color:rgba(191,63,63,0.6266496315557557);\">audio</span> by converting sound waves into an electrical <span style=\"background-color:rgba(191,63,63,1.25);\">signal</span>. this <span style=\"background-color:rgba(191,63,63,1.25);\">signal</span> can be amplified as an analog <span style=\"background-color:rgba(191,63,63,1.25);\">signal</span> or may be <span style=\"background-color:rgba(191,63,63,0.3335724959095744);\">converted</span> to a <span style=\"background-color:rgba(191,63,63,0.6345658838974884);\">digital</span> <span style=\"background-color:rgba(191,63,63,1.25);\">signal</span>, which can be processed by a computer or other <span style=\"background-color:rgba(191,63,63,0.6345658838974884);\">digital</span> <span style=\"background-color:rgba(191,63,63,0.6266496315557557);\">audio</span> <span style=\"background-color:rgba(191,63,63,0.6458648245902876);\">device</span>"
     },
     "metadata": {},
     "output_type": "display_data"
    }
   ],
   "source": [
    "from IPython.core.display import HTML, display\n",
    "\n",
    "html = highlighter.highlight(\n",
    "    question = 'What is a computer microphone?',\n",
    "    answer = '''Microphone. A microphone is a device that captures audio by converting sound waves into an electrical signal. This signal can be amplified as an analog signal or may be converted to a digital signal, which can be processed by a computer or other digital audio device''',\n",
    ")\n",
    "display(HTML(html))"
   ]
  },
  {
   "cell_type": "code",
   "execution_count": 4,
   "metadata": {
    "pycharm": {
     "name": "#%%\n"
    }
   },
   "outputs": [],
   "source": []
  }
 ],
 "metadata": {
  "kernelspec": {
   "name": "python3",
   "language": "python",
   "display_name": "Python 3"
  },
  "language_info": {
   "codemirror_mode": {
    "name": "ipython",
    "version": 3
   },
   "file_extension": ".py",
   "mimetype": "text/x-python",
   "name": "python",
   "nbconvert_exporter": "python",
   "pygments_lexer": "ipython3",
   "version": "3.7.3"
  },
  "varInspector": {
   "cols": {
    "lenName": 16,
    "lenType": 16,
    "lenVar": 40
   },
   "kernels_config": {
    "python": {
     "delete_cmd_postfix": "",
     "delete_cmd_prefix": "del ",
     "library": "var_list.py",
     "varRefreshCmd": "print(var_dic_list())"
    },
    "r": {
     "delete_cmd_postfix": ") ",
     "delete_cmd_prefix": "rm(",
     "library": "var_list.r",
     "varRefreshCmd": "cat(var_dic_list()) "
    }
   },
   "types_to_exclude": [
    "module",
    "function",
    "builtin_function_or_method",
    "instance",
    "_Feature"
   ],
   "window_display": false
  }
 },
 "nbformat": 4,
 "nbformat_minor": 1
}